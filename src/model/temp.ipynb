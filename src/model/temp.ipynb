{
 "cells": [
  {
   "cell_type": "code",
   "execution_count": 1,
   "metadata": {},
   "outputs": [],
   "source": [
    "import os\n",
    "import logging\n",
    "from pathlib import Path\n",
    "import click\n",
    "\n",
    "import torch\n",
    "from model import Classifier, Classifier2\n",
    "import pytorch_lightning as pl\n",
    "import sys"
   ]
  },
  {
   "cell_type": "code",
   "execution_count": 2,
   "metadata": {},
   "outputs": [],
   "source": [
    "input_filepath = \"/Users/kristianernst/Work/Learning/MLOps/DTU/S4/exercise/crpt_mnist/data/processed\"\n",
    "output_filepath = \"/Users/kristianernst/Work/Learning/MLOps/DTU/S4/exercise/crpt_mnist/models\""
   ]
  },
  {
   "cell_type": "code",
   "execution_count": 12,
   "metadata": {},
   "outputs": [],
   "source": [
    "from torch.utils.data import TensorDataset, DataLoader\n",
    "import numpy as np\n",
    "import sys\n",
    "from torchvision import transforms\n",
    "\n",
    "class MNISTDataModule(pl.LightningDataModule):\n",
    "    def __init__(self, data_dir: str = \"/Users/kristianernst/Work/Learning/MLOps/DTU/S4/exercise/crpt_mnist/data/raw\", batch_size: int = 64):\n",
    "        super().__init__()\n",
    "        self.data_dir = data_dir\n",
    "        self.batch_size = batch_size\n",
    "    \n",
    "    def prepare_data(self):\n",
    "        # Load the data\n",
    "        tr0 = np.load(self.data_dir + '/train_0.npz')\n",
    "        tr1 = np.load(self.data_dir + '/train_1.npz')\n",
    "        tr2 = np.load(self.data_dir + '/train_2.npz')\n",
    "        tr3 = np.load(self.data_dir + '/train_3.npz')\n",
    "        tr4 = np.load(self.data_dir + '/train_4.npz')\n",
    "        test = np.load(self.data_dir + '/test.npz')\n",
    "        \n",
    "        # select and concatenate data\n",
    "        x_train = np.concatenate((tr0['images'], tr1['images'], tr2['images'], tr3['images'], tr4['images']))\n",
    "        y_train = np.concatenate((tr0['labels'], tr1['labels'], tr2['labels'], tr3['labels'], tr4['labels']))\n",
    "        x_test = test['images']\n",
    "        y_test = test['labels']\n",
    "        \n",
    "        # convert to tensor from numpy\n",
    "        x_train = torch.from_numpy(x_train).float()\n",
    "        y_train = torch.from_numpy(y_train).int()\n",
    "        x_test = torch.from_numpy(x_test).float()\n",
    "        y_test = torch.from_numpy(y_test).int()\n",
    "        \n",
    "        #  # normalize dataset, 0 mean and 1 std\n",
    "        # train_mean = torch.mean(x_train, dim=(0, 2, 3))  # Calculate mean across channel dimension\n",
    "        # train_std = torch.std(x_train, dim=(0, 2, 3))    # Calculate std across channel dimension\n",
    "        # transform = transforms.Compose([\n",
    "        #     transforms.Normalize(mean=train_mean, std=train_std)\n",
    "        # ])\n",
    "        \n",
    "        # x_train = transform(x_train)\n",
    "        # x_test = transform(x_test)\n",
    "        \n",
    "        # create dataset\n",
    "    \n",
    "        self.train_dataset = TensorDataset(x_train, y_train)\n",
    "        self.test_dataset = TensorDataset(x_test, y_test)\n",
    "     \n",
    "    def train_dataloader(self):\n",
    "        return  DataLoader(self.train_dataset, batch_size=self.batch_size, shuffle=True)\n",
    "\n",
    "    def test_dataloader(self):\n",
    "        return DataLoader(self.test_dataset, batch_size=self.batch_size, shuffle=True)"
   ]
  },
  {
   "cell_type": "code",
   "execution_count": 4,
   "metadata": {},
   "outputs": [],
   "source": [
    "cmnist = MNISTDataModule()"
   ]
  },
  {
   "cell_type": "code",
   "execution_count": 5,
   "metadata": {},
   "outputs": [
    {
     "name": "stderr",
     "output_type": "stream",
     "text": [
      "Global seed set to 42\n"
     ]
    }
   ],
   "source": [
    "\n",
    "class LitProgressBar(pl.callbacks.ProgressBar):\n",
    "\n",
    "    def __init__(self):\n",
    "        super().__init__()  # don't forget this :)\n",
    "        self.enable = True\n",
    "\n",
    "    def disable(self):\n",
    "        self.enable = False\n",
    "\n",
    "    def on_train_batch_end(self, trainer, pl_module, outputs, batch, batch_idx):\n",
    "        super().on_train_batch_end(trainer, pl_module, outputs, batch, batch_idx)  # don't forget this :)\n",
    "        percent = (batch_idx / self.total_train_batches) * 100\n",
    "        sys.stdout.flush()\n",
    "        sys.stdout.write(f'{percent:.01f} percent complete \\r')\n",
    "\n",
    "pl.seed_everything(42)\n",
    "trainloader = torch.load(input_filepath + '/trainloader.pt')\n",
    "testloader = torch.load(input_filepath + '/testloader.pt')\n",
    "clf = Classifier()\n",
    "\n",
    "# set callbacks\n",
    "checkpoint_clb = pl.callbacks.ModelCheckpoint(\n",
    "    dirpath=\"/Users/kristianernst/Work/Learning/MLOps/DTU/S4/exercise/crpt_mnist/models/\",\n",
    "    filename='best-checkpoint',\n",
    "    save_top_k=1,\n",
    "    auto_insert_metric_name=True,\n",
    "    verbose=True,\n",
    "    monitor = 'train_loss'\n",
    ")"
   ]
  },
  {
   "cell_type": "code",
   "execution_count": 8,
   "metadata": {},
   "outputs": [
    {
     "name": "stderr",
     "output_type": "stream",
     "text": [
      "Trainer already configured with model summary callbacks: [<class 'pytorch_lightning.callbacks.model_summary.ModelSummary'>]. Skipping setting a default `ModelSummary` callback.\n",
      "GPU available: True (mps), used: True\n",
      "TPU available: False, using: 0 TPU cores\n",
      "IPU available: False, using: 0 IPUs\n",
      "HPU available: False, using: 0 HPUs\n",
      "/Users/kristianernst/anaconda3/envs/new_env/lib/python3.11/site-packages/pytorch_lightning/callbacks/model_checkpoint.py:615: UserWarning: Checkpoint directory /Users/kristianernst/Work/Learning/MLOps/DTU/S4/exercise/crpt_mnist/models exists and is not empty.\n",
      "  rank_zero_warn(f\"Checkpoint directory {dirpath} exists and is not empty.\")\n",
      "\n",
      "   | Name         | Type             | Params\n",
      "---------------------------------------------------\n",
      "0  | backbone     | Sequential       | 24.9 K\n",
      "1  | backbone.0   | Conv2d           | 640   \n",
      "2  | backbone.1   | LeakyReLU        | 0     \n",
      "3  | backbone.2   | Conv2d           | 18.5 K\n",
      "4  | backbone.3   | LeakyReLU        | 0     \n",
      "5  | backbone.4   | Conv2d           | 4.6 K \n",
      "6  | backbone.5   | LeakyReLU        | 0     \n",
      "7  | backbone.6   | Conv2d           | 1.2 K \n",
      "8  | backbone.7   | LeakyReLU        | 0     \n",
      "9  | classifier   | Sequential       | 804 K \n",
      "10 | classifier.0 | Flatten          | 0     \n",
      "11 | classifier.1 | Linear           | 802 K \n",
      "12 | classifier.2 | Dropout          | 0     \n",
      "13 | classifier.3 | Linear           | 1.3 K \n",
      "14 | criterion    | CrossEntropyLoss | 0     \n",
      "---------------------------------------------------\n",
      "829 K     Trainable params\n",
      "0         Non-trainable params\n",
      "829 K     Total params\n",
      "3.316     Total estimated model params size (MB)\n"
     ]
    },
    {
     "name": "stdout",
     "output_type": "stream",
     "text": [
      "99.5 percent complete \r"
     ]
    },
    {
     "name": "stderr",
     "output_type": "stream",
     "text": [
      "Epoch 0, global step 391: 'train_loss' reached 0.06245 (best 0.06245), saving model to '/Users/kristianernst/Work/Learning/MLOps/DTU/S4/exercise/crpt_mnist/models/best-checkpoint.ckpt' as top 1\n"
     ]
    },
    {
     "name": "stdout",
     "output_type": "stream",
     "text": [
      "99.5 percent complete \r"
     ]
    },
    {
     "name": "stderr",
     "output_type": "stream",
     "text": [
      "Epoch 1, global step 782: 'train_loss' reached 0.04368 (best 0.04368), saving model to '/Users/kristianernst/Work/Learning/MLOps/DTU/S4/exercise/crpt_mnist/models/best-checkpoint.ckpt' as top 1\n"
     ]
    },
    {
     "name": "stdout",
     "output_type": "stream",
     "text": [
      "99.5 percent complete \r"
     ]
    },
    {
     "name": "stderr",
     "output_type": "stream",
     "text": [
      "Epoch 2, global step 1173: 'train_loss' reached 0.03718 (best 0.03718), saving model to '/Users/kristianernst/Work/Learning/MLOps/DTU/S4/exercise/crpt_mnist/models/best-checkpoint.ckpt' as top 1\n"
     ]
    },
    {
     "name": "stdout",
     "output_type": "stream",
     "text": [
      "99.5 percent complete \r"
     ]
    },
    {
     "name": "stderr",
     "output_type": "stream",
     "text": [
      "Epoch 3, global step 1564: 'train_loss' reached 0.02687 (best 0.02687), saving model to '/Users/kristianernst/Work/Learning/MLOps/DTU/S4/exercise/crpt_mnist/models/best-checkpoint.ckpt' as top 1\n"
     ]
    },
    {
     "name": "stdout",
     "output_type": "stream",
     "text": [
      "99.7 percent complete \r"
     ]
    },
    {
     "name": "stderr",
     "output_type": "stream",
     "text": [
      "`Trainer.fit` stopped: `max_epochs=4` reached.\n"
     ]
    }
   ],
   "source": [
    "bar_clb = LitProgressBar()\n",
    "\n",
    "\n",
    "trainer = pl.Trainer(callbacks=[checkpoint_clb, summary_clb, bar_clb], max_epochs=4)\n",
    "trainer.fit(clf, cmnist)"
   ]
  },
  {
   "cell_type": "code",
   "execution_count": 13,
   "metadata": {},
   "outputs": [],
   "source": [
    "import logging"
   ]
  },
  {
   "cell_type": "code",
   "execution_count": 9,
   "metadata": {},
   "outputs": [
    {
     "data": {
      "text/plain": [
       "{'train_loss_step': tensor(0.0204),\n",
       " 'train_acc_step': tensor(1.),\n",
       " 'train_loss_epoch': tensor(0.0269),\n",
       " 'train_acc_epoch': tensor(0.9907)}"
      ]
     },
     "execution_count": 9,
     "metadata": {},
     "output_type": "execute_result"
    }
   ],
   "source": [
    "trainer.logged_metrics"
   ]
  },
  {
   "cell_type": "code",
   "execution_count": 11,
   "metadata": {},
   "outputs": [
    {
     "data": {
      "text/plain": [
       "{'train_loss_step': tensor(0.0204),\n",
       " 'train_acc_step': tensor(1.),\n",
       " 'train_loss_epoch': tensor(0.0269),\n",
       " 'train_acc_epoch': tensor(0.9907)}"
      ]
     },
     "execution_count": 11,
     "metadata": {},
     "output_type": "execute_result"
    }
   ],
   "source": [
    "trainer._logger_connector.logged_metrics"
   ]
  },
  {
   "cell_type": "code",
   "execution_count": 15,
   "metadata": {},
   "outputs": [
    {
     "ename": "AttributeError",
     "evalue": "'ExperimentWriter' object has no attribute 'log_table'",
     "output_type": "error",
     "traceback": [
      "\u001b[0;31m---------------------------------------------------------------------------\u001b[0m",
      "\u001b[0;31mAttributeError\u001b[0m                            Traceback (most recent call last)",
      "Cell \u001b[0;32mIn[15], line 4\u001b[0m\n\u001b[1;32m      2\u001b[0m logger \u001b[39m=\u001b[39m logging\u001b[39m.\u001b[39mgetLogger(\u001b[39m__name__\u001b[39m)\n\u001b[1;32m      3\u001b[0m logger\u001b[39m.\u001b[39minfo(\u001b[39m\"\u001b[39m\u001b[39mTraining loss:\u001b[39m\u001b[39m\"\u001b[39m)\n\u001b[0;32m----> 4\u001b[0m trainer\u001b[39m.\u001b[39;49mloggers[\u001b[39m0\u001b[39;49m]\u001b[39m.\u001b[39;49mexperiment\u001b[39m.\u001b[39;49mlog_table(\u001b[39m\"\u001b[39m\u001b[39mTraining loss\u001b[39m\u001b[39m\"\u001b[39m, trainer\u001b[39m.\u001b[39mlogged_metrics)\n",
      "\u001b[0;31mAttributeError\u001b[0m: 'ExperimentWriter' object has no attribute 'log_table'"
     ]
    }
   ],
   "source": [
    "# print training loss\n",
    "logger = logging.getLogger(__name__)\n",
    "logger.info(\"Training loss:\")\n"
   ]
  },
  {
   "cell_type": "code",
   "execution_count": null,
   "metadata": {},
   "outputs": [],
   "source": [
    "# training:\n",
    "clf = Classifier2()\n",
    "\n"
   ]
  },
  {
   "cell_type": "code",
   "execution_count": null,
   "metadata": {},
   "outputs": [],
   "source": [
    "# train loop\n",
    "num_epochs = 10\n",
    "device = \"cpu\"\n",
    "model = Classifier2()\n",
    "criterion = torch.nn.CrossEntropyLoss()\n",
    "optimizer = torch.optim.Adam(clf.parameters(), lr=0.001)\n",
    "\n",
    "train_loss_log = []\n",
    "train_accuracy_log = []\n",
    "test_loss_log = []\n",
    "test_accuracy_log = []\n",
    "\n",
    "test_acc = 0\n",
    "\n",
    "for epoch in range(num_epochs):\n",
    "        running_loss = 0\n",
    "        running_accuracy = 0\n",
    "        test_loss = 0\n",
    "        test_accuracy = 0\n",
    "\n",
    "        model.train()\n",
    "\n",
    "        # iter over data\n",
    "        for images, labels in trainloader:\n",
    "            images, labels = images.to(device), labels.to(device)\n",
    "            print(images.shape)\n",
    "            images = images.unsqueeze(1)\n",
    "            print(images.shape)\n",
    "            optimizer.zero_grad()\n",
    "\n",
    "            _, ps = model(images)\n",
    "            loss = criterion(ps, labels)\n",
    "            loss.backward()\n",
    "            optimizer.step()\n",
    "            running_loss += loss.item()\n",
    "\n",
    "            # calculate accuracy\n",
    "            top_p, top_class = ps.topk(1, dim=1)\n",
    "            equals = top_class == labels.view(*top_class.shape)\n",
    "            running_accuracy += torch.mean(equals.type(torch.FloatTensor))\n",
    "\n",
    "        else:\n",
    "            print(f\"Training loss: {running_loss/len(trainloader)}\")\n",
    "            print(f\"Training accuracy: {running_accuracy/len(trainloader)}\")\n",
    "            train_loss_log.append([epoch, running_loss / len(trainloader)])\n",
    "            train_accuracy_log.append([epoch, running_accuracy / len(trainloader)])\n",
    "\n",
    "            # evaluate\n",
    "            model.eval()\n",
    "            with torch.inference_mode():\n",
    "                # iter over data\n",
    "                for images, labels in testloader:\n",
    "                    images, labels = images.to(device), labels.to(device)\n",
    "                    print(images.shape)\n",
    "                    _, ps = model(images)\n",
    "                    loss = criterion(ps, labels)\n",
    "                    test_loss += loss.item()\n",
    "\n",
    "                    # calculate accuracy\n",
    "                    top_p, top_class = ps.topk(1, dim=1)\n",
    "                    equals = top_class == labels.view(*top_class.shape)\n",
    "                    test_accuracy += torch.mean(equals.type(torch.FloatTensor))\n",
    "\n",
    "                else:\n",
    "                    print(f\"Test loss: {test_loss/len(testloader)}\")\n",
    "                    print(f\"Test accuracy: {test_accuracy/len(testloader)}\")\n",
    "\n",
    "                    test_loss_log.append([epoch, test_loss / len(testloader)])\n",
    "                    test_accuracy_log.append([epoch, test_accuracy / len(testloader)])\n",
    "\n",
    "                    if test_accuracy / len(testloader) > test_acc:\n",
    "                        torch.save(model.state_dict(), output_filepath + \"/model.pt\")\n",
    "                        print(\"Model saved\")\n",
    "                        test_acc = test_accuracy / len(testloader)"
   ]
  }
 ],
 "metadata": {
  "kernelspec": {
   "display_name": "new_env",
   "language": "python",
   "name": "python3"
  },
  "language_info": {
   "codemirror_mode": {
    "name": "ipython",
    "version": 3
   },
   "file_extension": ".py",
   "mimetype": "text/x-python",
   "name": "python",
   "nbconvert_exporter": "python",
   "pygments_lexer": "ipython3",
   "version": "3.11.3"
  },
  "orig_nbformat": 4
 },
 "nbformat": 4,
 "nbformat_minor": 2
}
